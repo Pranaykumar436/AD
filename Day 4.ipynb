{
 "cells": [
  {
   "cell_type": "code",
   "execution_count": 4,
   "id": "695c6bfa",
   "metadata": {},
   "outputs": [
    {
     "data": {
      "text/plain": [
       "{100: 1, 101: 2, 'B': 3, 103: 4}"
      ]
     },
     "execution_count": 4,
     "metadata": {},
     "output_type": "execute_result"
    }
   ],
   "source": [
    "d={100:1,101:2,'B':3,103:4}\n",
    "d"
   ]
  },
  {
   "cell_type": "code",
   "execution_count": 2,
   "id": "664ffa08",
   "metadata": {},
   "outputs": [
    {
     "data": {
      "text/plain": [
       "[9, 6, 3, 1]"
      ]
     },
     "execution_count": 2,
     "metadata": {},
     "output_type": "execute_result"
    }
   ],
   "source": [
    "l=[9,6,3,1]\n",
    "l"
   ]
  },
  {
   "cell_type": "code",
   "execution_count": 3,
   "id": "c1f1ba89",
   "metadata": {},
   "outputs": [
    {
     "data": {
      "text/plain": [
       "4"
      ]
     },
     "execution_count": 3,
     "metadata": {},
     "output_type": "execute_result"
    }
   ],
   "source": [
    "d[103]"
   ]
  },
  {
   "cell_type": "code",
   "execution_count": 5,
   "id": "bae0df0f",
   "metadata": {},
   "outputs": [
    {
     "data": {
      "text/plain": [
       "3"
      ]
     },
     "execution_count": 5,
     "metadata": {},
     "output_type": "execute_result"
    }
   ],
   "source": [
    "d['B']"
   ]
  },
  {
   "cell_type": "code",
   "execution_count": 6,
   "id": "857f73fa",
   "metadata": {},
   "outputs": [
    {
     "data": {
      "text/plain": [
       "{100: 1, 101: 30, 'B': 3, 103: 4}"
      ]
     },
     "execution_count": 6,
     "metadata": {},
     "output_type": "execute_result"
    }
   ],
   "source": [
    "#update\n",
    "d[101]=30\n",
    "d"
   ]
  },
  {
   "cell_type": "code",
   "execution_count": 7,
   "id": "74e53309",
   "metadata": {},
   "outputs": [
    {
     "data": {
      "text/plain": [
       "{100: 85, 101: 30, 'B': 3, 103: 4}"
      ]
     },
     "execution_count": 7,
     "metadata": {},
     "output_type": "execute_result"
    }
   ],
   "source": [
    "d.update({100:85})\n",
    "d"
   ]
  },
  {
   "cell_type": "code",
   "execution_count": 8,
   "id": "1d2469b1",
   "metadata": {},
   "outputs": [
    {
     "data": {
      "text/plain": [
       "{100: 85, 101: 30, 'B': 3, 103: 4, 104: 65}"
      ]
     },
     "execution_count": 8,
     "metadata": {},
     "output_type": "execute_result"
    }
   ],
   "source": [
    "d[104]=65\n",
    "d"
   ]
  },
  {
   "cell_type": "code",
   "execution_count": 9,
   "id": "f4f77f1e",
   "metadata": {},
   "outputs": [
    {
     "data": {
      "text/plain": [
       "{100: 85, 101: 'India', 'B': 3, 103: 4, 104: 65}"
      ]
     },
     "execution_count": 9,
     "metadata": {},
     "output_type": "execute_result"
    }
   ],
   "source": [
    "d[101]='India'\n",
    "d"
   ]
  },
  {
   "cell_type": "code",
   "execution_count": 10,
   "id": "0e756c46",
   "metadata": {},
   "outputs": [
    {
     "data": {
      "text/plain": [
       "{100: 85, 101: 'India', 'B': 3, 103: 4, 104: 'India'}"
      ]
     },
     "execution_count": 10,
     "metadata": {},
     "output_type": "execute_result"
    }
   ],
   "source": [
    "d.update({104:'India'}) #it allows the duplicate values,but does not allows dulplicate keys\n",
    "d"
   ]
  },
  {
   "cell_type": "code",
   "execution_count": 12,
   "id": "73186eb5",
   "metadata": {},
   "outputs": [
    {
     "data": {
      "text/plain": [
       "'India'"
      ]
     },
     "execution_count": 12,
     "metadata": {},
     "output_type": "execute_result"
    }
   ],
   "source": [
    "d.get(101)"
   ]
  },
  {
   "cell_type": "code",
   "execution_count": 13,
   "id": "317748e5",
   "metadata": {},
   "outputs": [
    {
     "data": {
      "text/plain": [
       "{100: 85, 101: 'India', 103: 4, 104: 'India'}"
      ]
     },
     "execution_count": 13,
     "metadata": {},
     "output_type": "execute_result"
    }
   ],
   "source": [
    "del d['B']\n",
    "d"
   ]
  },
  {
   "cell_type": "code",
   "execution_count": 14,
   "id": "9e92287e",
   "metadata": {},
   "outputs": [
    {
     "data": {
      "text/plain": [
       "dict_items([(100, 85), (101, 'India'), (103, 4), (104, 'India')])"
      ]
     },
     "execution_count": 14,
     "metadata": {},
     "output_type": "execute_result"
    }
   ],
   "source": [
    "d.items()"
   ]
  },
  {
   "cell_type": "code",
   "execution_count": 15,
   "id": "0d4d26c0",
   "metadata": {},
   "outputs": [
    {
     "data": {
      "text/plain": [
       "{100: 85, 101: 'India', 103: 4, 104: [10, 20, 30, 40]}"
      ]
     },
     "execution_count": 15,
     "metadata": {},
     "output_type": "execute_result"
    }
   ],
   "source": [
    "d[104]=[10,20,30,40]\n",
    "d"
   ]
  },
  {
   "cell_type": "code",
   "execution_count": 16,
   "id": "131bccf8",
   "metadata": {},
   "outputs": [
    {
     "data": {
      "text/plain": [
       "dict"
      ]
     },
     "execution_count": 16,
     "metadata": {},
     "output_type": "execute_result"
    }
   ],
   "source": [
    "type(d)"
   ]
  },
  {
   "cell_type": "code",
   "execution_count": 17,
   "id": "379bf8fa",
   "metadata": {},
   "outputs": [
    {
     "data": {
      "text/plain": [
       "str"
      ]
     },
     "execution_count": 17,
     "metadata": {},
     "output_type": "execute_result"
    }
   ],
   "source": [
    "type(d[101])"
   ]
  },
  {
   "cell_type": "code",
   "execution_count": 18,
   "id": "dbdda980",
   "metadata": {},
   "outputs": [
    {
     "data": {
      "text/plain": [
       "list"
      ]
     },
     "execution_count": 18,
     "metadata": {},
     "output_type": "execute_result"
    }
   ],
   "source": [
    "type(d[104])"
   ]
  },
  {
   "cell_type": "code",
   "execution_count": 19,
   "id": "4fd906bb",
   "metadata": {},
   "outputs": [
    {
     "data": {
      "text/plain": [
       "{100: 85, 101: 'India', 103: 4, 104: [10, 20, 30, 40], 105: (1, 2, 3, 4, 5)}"
      ]
     },
     "execution_count": 19,
     "metadata": {},
     "output_type": "execute_result"
    }
   ],
   "source": [
    "d[105]=(1,2,3,4,5)\n",
    "d"
   ]
  },
  {
   "cell_type": "code",
   "execution_count": 21,
   "id": "6b99b202",
   "metadata": {},
   "outputs": [
    {
     "data": {
      "text/plain": [
       "tuple"
      ]
     },
     "execution_count": 21,
     "metadata": {},
     "output_type": "execute_result"
    }
   ],
   "source": [
    "type(d[105])\n"
   ]
  },
  {
   "cell_type": "code",
   "execution_count": 23,
   "id": "3ffefebd",
   "metadata": {},
   "outputs": [
    {
     "data": {
      "text/plain": [
       "{100: 85,\n",
       " 101: 'India',\n",
       " 103: 4,\n",
       " 104: [10, 20, 30, 40, 52],\n",
       " 105: (1, 2, 3, 4, 5)}"
      ]
     },
     "execution_count": 23,
     "metadata": {},
     "output_type": "execute_result"
    }
   ],
   "source": [
    "d[104].append(52)\n",
    "d"
   ]
  },
  {
   "cell_type": "code",
   "execution_count": 24,
   "id": "54d6f838",
   "metadata": {},
   "outputs": [
    {
     "data": {
      "text/plain": [
       "2"
      ]
     },
     "execution_count": 24,
     "metadata": {},
     "output_type": "execute_result"
    }
   ],
   "source": [
    "d[104].index(30)"
   ]
  },
  {
   "cell_type": "code",
   "execution_count": 26,
   "id": "ef546459",
   "metadata": {},
   "outputs": [
    {
     "data": {
      "text/plain": [
       "[10, 20, 30, 40]"
      ]
     },
     "execution_count": 26,
     "metadata": {},
     "output_type": "execute_result"
    }
   ],
   "source": [
    "d[104][0:4]"
   ]
  },
  {
   "cell_type": "code",
   "execution_count": 30,
   "id": "f4858c73",
   "metadata": {},
   "outputs": [
    {
     "data": {
      "text/plain": [
       "{100: 85,\n",
       " 101: 'India',\n",
       " 103: 4,\n",
       " 104: [10, 20, 30, 40, 52],\n",
       " 105: (1, 2, 3, 4, 5),\n",
       " 106: [{'a': {30, 50, 60},\n",
       "   'b': (100, 200, 300, 400),\n",
       "   'c': ['K', {'L': [21, 22], 'M': (66, 77)}, 'N']}]}"
      ]
     },
     "execution_count": 30,
     "metadata": {},
     "output_type": "execute_result"
    }
   ],
   "source": [
    "d[106]=[{'a':{30,50,60},'b':(100,200,300,400),'c':['K',{'L':[21,22],'M':(66,77)},'N']}]\n",
    "d"
   ]
  },
  {
   "cell_type": "code",
   "execution_count": 31,
   "id": "4e848095",
   "metadata": {},
   "outputs": [],
   "source": [
    "d[107]={50:[7,8,9,10],'apple':(20,30,40,[2,3,5])}"
   ]
  },
  {
   "cell_type": "code",
   "execution_count": 32,
   "id": "186310d9",
   "metadata": {},
   "outputs": [
    {
     "data": {
      "text/plain": [
       "{100: 85,\n",
       " 101: 'India',\n",
       " 103: 4,\n",
       " 104: [10, 20, 30, 40, 52],\n",
       " 105: (1, 2, 3, 4, 5),\n",
       " 106: [{'a': {30, 50, 60},\n",
       "   'b': (100, 200, 300, 400),\n",
       "   'c': ['K', {'L': [21, 22], 'M': (66, 77)}, 'N']}],\n",
       " 107: {50: [7, 8, 9, 10], 'apple': (20, 30, 40, [2, 3, 5])}}"
      ]
     },
     "execution_count": 32,
     "metadata": {},
     "output_type": "execute_result"
    }
   ],
   "source": [
    "d"
   ]
  },
  {
   "cell_type": "code",
   "execution_count": null,
   "id": "f044ce0d",
   "metadata": {},
   "outputs": [],
   "source": []
  }
 ],
 "metadata": {
  "kernelspec": {
   "display_name": "Python 3 (ipykernel)",
   "language": "python",
   "name": "python3"
  },
  "language_info": {
   "codemirror_mode": {
    "name": "ipython",
    "version": 3
   },
   "file_extension": ".py",
   "mimetype": "text/x-python",
   "name": "python",
   "nbconvert_exporter": "python",
   "pygments_lexer": "ipython3",
   "version": "3.9.12"
  }
 },
 "nbformat": 4,
 "nbformat_minor": 5
}
