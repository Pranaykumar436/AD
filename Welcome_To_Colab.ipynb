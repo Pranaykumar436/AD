{
  "cells": [
    {
      "cell_type": "markdown",
      "metadata": {
        "id": "view-in-github",
        "colab_type": "text"
      },
      "source": [
        "<a href=\"https://colab.research.google.com/github/Pranaykumar436/python_data_items/blob/main/Welcome_To_Colab.ipynb\" target=\"_parent\"><img src=\"https://colab.research.google.com/assets/colab-badge.svg\" alt=\"Open In Colab\"/></a>"
      ]
    },
    {
      "cell_type": "code",
      "source": [
        "x = 34.56\n",
        "y = 3.5\n",
        "print(\"x = \", x)\n",
        "print(\"y = \", y)\n",
        "x += y\n",
        "print(\"x += y: \", x)\n",
        "x = 34.56\n",
        "x -= y\n",
        "print(\"x -= y: \", x)\n",
        "x = 34.56\n",
        "x *= y\n",
        "print(\"x *= y: \", x)\n",
        "x = 34.56\n",
        "x /= y\n",
        "print(\"x /= y: \", x)\n",
        "x = 34.56\n",
        "x %= y\n",
        "print(\"x %= y: \", x)\n",
        "x = 34.56\n",
        "x **= y\n",
        "print(\"x **= y: \", x)\n",
        "x = 34.56\n",
        "x //= y\n",
        "print(\"x //= y: \", x)\n"
      ],
      "metadata": {
        "colab": {
          "base_uri": "https://localhost:8080/"
        },
        "id": "A0D-pCiSi0je",
        "outputId": "9611feef-5fc6-4a95-9446-316f297d646c"
      },
      "execution_count": 1,
      "outputs": [
        {
          "output_type": "stream",
          "name": "stdout",
          "text": [
            "x =  34.56\n",
            "y =  3.5\n",
            "x += y:  38.06\n",
            "x -= y:  31.060000000000002\n",
            "x *= y:  120.96000000000001\n",
            "x /= y:  9.874285714285715\n",
            "x %= y:  3.0600000000000023\n",
            "x **= y:  242665.51770697304\n",
            "x //= y:  9.0\n"
          ]
        }
      ]
    }
  ],
  "metadata": {
    "colab": {
      "name": "Welcome To Colab",
      "toc_visible": true,
      "provenance": [],
      "include_colab_link": true
    },
    "kernelspec": {
      "display_name": "Python 3",
      "name": "python3"
    }
  },
  "nbformat": 4,
  "nbformat_minor": 0
}