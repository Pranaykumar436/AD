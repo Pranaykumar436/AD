{
 "cells": [
  {
   "cell_type": "code",
   "execution_count": 1,
   "id": "c679973c",
   "metadata": {},
   "outputs": [
    {
     "data": {
      "text/plain": [
       "True"
      ]
     },
     "execution_count": 1,
     "metadata": {},
     "output_type": "execute_result"
    }
   ],
   "source": [
    "c=[200,'hello',45,32,True,False,3.2]\n",
    "c[4]"
   ]
  },
  {
   "cell_type": "code",
   "execution_count": 2,
   "id": "82737378",
   "metadata": {},
   "outputs": [
    {
     "data": {
      "text/plain": [
       "list"
      ]
     },
     "execution_count": 2,
     "metadata": {},
     "output_type": "execute_result"
    }
   ],
   "source": [
    "type(c)"
   ]
  },
  {
   "cell_type": "code",
   "execution_count": 3,
   "id": "f08f7699",
   "metadata": {},
   "outputs": [
    {
     "data": {
      "text/plain": [
       "False"
      ]
     },
     "execution_count": 3,
     "metadata": {},
     "output_type": "execute_result"
    }
   ],
   "source": [
    "c[5]"
   ]
  },
  {
   "cell_type": "code",
   "execution_count": 4,
   "id": "2969c302",
   "metadata": {},
   "outputs": [
    {
     "data": {
      "text/plain": [
       "True"
      ]
     },
     "execution_count": 4,
     "metadata": {},
     "output_type": "execute_result"
    }
   ],
   "source": [
    "c[-3]"
   ]
  },
  {
   "cell_type": "code",
   "execution_count": 5,
   "id": "d5c36e7a",
   "metadata": {},
   "outputs": [
    {
     "data": {
      "text/plain": [
       "[200, 'hello']"
      ]
     },
     "execution_count": 5,
     "metadata": {},
     "output_type": "execute_result"
    }
   ],
   "source": [
    "c[0:2]"
   ]
  },
  {
   "cell_type": "code",
   "execution_count": 7,
   "id": "bbda3fbf",
   "metadata": {},
   "outputs": [
    {
     "data": {
      "text/plain": [
       "[200, 'hello', 45, 32, True, False, 3.2]"
      ]
     },
     "execution_count": 7,
     "metadata": {},
     "output_type": "execute_result"
    }
   ],
   "source": [
    "c"
   ]
  },
  {
   "cell_type": "code",
   "execution_count": 6,
   "id": "03a3546e",
   "metadata": {},
   "outputs": [
    {
     "data": {
      "text/plain": [
       "[32, True, False]"
      ]
     },
     "execution_count": 6,
     "metadata": {},
     "output_type": "execute_result"
    }
   ],
   "source": [
    "c[-4:-1]"
   ]
  },
  {
   "cell_type": "code",
   "execution_count": 8,
   "id": "2221aab5",
   "metadata": {},
   "outputs": [
    {
     "data": {
      "text/plain": [
       "[202, 'Delhi', 89, 52, 64, 774]"
      ]
     },
     "execution_count": 8,
     "metadata": {},
     "output_type": "execute_result"
    }
   ],
   "source": [
    "n=[202,'Delhi',89,52,64,774]\n",
    "n"
   ]
  },
  {
   "cell_type": "code",
   "execution_count": 9,
   "id": "058e9a9a",
   "metadata": {},
   "outputs": [
    {
     "data": {
      "text/plain": [
       "['Delhi', 89, 52]"
      ]
     },
     "execution_count": 9,
     "metadata": {},
     "output_type": "execute_result"
    }
   ],
   "source": [
    "n[1:-2]"
   ]
  },
  {
   "cell_type": "code",
   "execution_count": 10,
   "id": "ccdff462",
   "metadata": {},
   "outputs": [
    {
     "data": {
      "text/plain": [
       "89"
      ]
     },
     "execution_count": 10,
     "metadata": {},
     "output_type": "execute_result"
    }
   ],
   "source": [
    "n[2]"
   ]
  },
  {
   "cell_type": "code",
   "execution_count": 13,
   "id": "134a9ec1",
   "metadata": {},
   "outputs": [
    {
     "data": {
      "text/plain": [
       "['hello', 32, False]"
      ]
     },
     "execution_count": 13,
     "metadata": {},
     "output_type": "execute_result"
    }
   ],
   "source": [
    "c[1:6:2]"
   ]
  },
  {
   "cell_type": "code",
   "execution_count": 15,
   "id": "e6ce3272",
   "metadata": {},
   "outputs": [
    {
     "data": {
      "text/plain": [
       "['hello', 32]"
      ]
     },
     "execution_count": 15,
     "metadata": {},
     "output_type": "execute_result"
    }
   ],
   "source": [
    "c[1:-3:2]"
   ]
  },
  {
   "cell_type": "code",
   "execution_count": 16,
   "id": "d4fa00b4",
   "metadata": {},
   "outputs": [
    {
     "data": {
      "text/plain": [
       "[200, 'hello', 45, 32, True, False, 3.2]"
      ]
     },
     "execution_count": 16,
     "metadata": {},
     "output_type": "execute_result"
    }
   ],
   "source": [
    "c"
   ]
  },
  {
   "cell_type": "code",
   "execution_count": null,
   "id": "f138c2af",
   "metadata": {},
   "outputs": [],
   "source": [
    "append\n",
    "insert\n",
    "extend\n",
    "pop\n",
    "remove\n",
    "clear \n",
    "count"
   ]
  },
  {
   "cell_type": "code",
   "execution_count": 24,
   "id": "8181f10c",
   "metadata": {},
   "outputs": [
    {
     "data": {
      "text/plain": [
       "[200, 'hello', 45, 32, True, False, 3.2, 52]"
      ]
     },
     "execution_count": 24,
     "metadata": {},
     "output_type": "execute_result"
    }
   ],
   "source": [
    "c"
   ]
  },
  {
   "cell_type": "code",
   "execution_count": 25,
   "id": "79874d28",
   "metadata": {},
   "outputs": [
    {
     "data": {
      "text/plain": [
       "[200, 'hello', 45, 32, True, False, 3.2, 52, 45]"
      ]
     },
     "execution_count": 25,
     "metadata": {},
     "output_type": "execute_result"
    }
   ],
   "source": [
    "c.append(45)\n",
    "c"
   ]
  },
  {
   "cell_type": "code",
   "execution_count": 26,
   "id": "42248cd8",
   "metadata": {},
   "outputs": [
    {
     "data": {
      "text/plain": [
       "[200, 'hello', 45, 32, True, False, 3.2, 52, 45, 'India']"
      ]
     },
     "execution_count": 26,
     "metadata": {},
     "output_type": "execute_result"
    }
   ],
   "source": [
    "c.append('India')\n",
    "c"
   ]
  },
  {
   "cell_type": "code",
   "execution_count": 27,
   "id": "b020fb2b",
   "metadata": {},
   "outputs": [
    {
     "data": {
      "text/plain": [
       "[200, 'hello', 45, 100, 32, True, False, 3.2, 52, 45, 'India']"
      ]
     },
     "execution_count": 27,
     "metadata": {},
     "output_type": "execute_result"
    }
   ],
   "source": [
    "c.insert(3,100)\n",
    "c"
   ]
  },
  {
   "cell_type": "code",
   "execution_count": 28,
   "id": "9a7e6193",
   "metadata": {},
   "outputs": [
    {
     "data": {
      "text/plain": [
       "[200, 'hello', 45, 100, 32, 'Delhi', True, False, 3.2, 52, 45, 'India']"
      ]
     },
     "execution_count": 28,
     "metadata": {},
     "output_type": "execute_result"
    }
   ],
   "source": [
    "c.insert(5,'Delhi')\n",
    "c"
   ]
  },
  {
   "cell_type": "code",
   "execution_count": 29,
   "id": "8834d5f6",
   "metadata": {},
   "outputs": [
    {
     "data": {
      "text/plain": [
       "[200, 'hello', 45, 32, 'Delhi', True, False, 3.2, 52, 45, 'India']"
      ]
     },
     "execution_count": 29,
     "metadata": {},
     "output_type": "execute_result"
    }
   ],
   "source": [
    "c.pop(3)\n",
    "c"
   ]
  },
  {
   "cell_type": "code",
   "execution_count": 30,
   "id": "cd955f96",
   "metadata": {},
   "outputs": [
    {
     "data": {
      "text/plain": [
       "[200, 'hello', 32, 'Delhi', True, False, 3.2, 52, 45, 'India']"
      ]
     },
     "execution_count": 30,
     "metadata": {},
     "output_type": "execute_result"
    }
   ],
   "source": [
    "c.remove(45)\n",
    "c"
   ]
  },
  {
   "cell_type": "code",
   "execution_count": 32,
   "id": "7d5db4b8",
   "metadata": {},
   "outputs": [
    {
     "data": {
      "text/plain": [
       "1"
      ]
     },
     "execution_count": 32,
     "metadata": {},
     "output_type": "execute_result"
    }
   ],
   "source": [
    "c.count(200)\n"
   ]
  },
  {
   "cell_type": "code",
   "execution_count": 33,
   "id": "44694b1a",
   "metadata": {},
   "outputs": [
    {
     "data": {
      "text/plain": [
       "[56, 77]"
      ]
     },
     "execution_count": 33,
     "metadata": {},
     "output_type": "execute_result"
    }
   ],
   "source": [
    "d=[56,77]\n",
    "d"
   ]
  },
  {
   "cell_type": "code",
   "execution_count": 34,
   "id": "56dca41a",
   "metadata": {},
   "outputs": [
    {
     "data": {
      "text/plain": [
       "[200, 'hello', 32, 'Delhi', True, False, 3.2, 52, 45, 'India', 56, 77]"
      ]
     },
     "execution_count": 34,
     "metadata": {},
     "output_type": "execute_result"
    }
   ],
   "source": [
    "c.extend(d)\n",
    "c"
   ]
  },
  {
   "cell_type": "code",
   "execution_count": 35,
   "id": "45b8bbd2",
   "metadata": {},
   "outputs": [
    {
     "data": {
      "text/plain": [
       "[200, 'hello', 32, 'Delhi', True, False, 3.2, 52, 45, 'India', 56, 77, 56, 77]"
      ]
     },
     "execution_count": 35,
     "metadata": {},
     "output_type": "execute_result"
    }
   ],
   "source": [
    "c+d"
   ]
  },
  {
   "cell_type": "code",
   "execution_count": 36,
   "id": "a88cae34",
   "metadata": {},
   "outputs": [
    {
     "data": {
      "text/plain": [
       "56"
      ]
     },
     "execution_count": 36,
     "metadata": {},
     "output_type": "execute_result"
    }
   ],
   "source": [
    "c.pop()\n",
    "c.pop()"
   ]
  },
  {
   "cell_type": "code",
   "execution_count": 37,
   "id": "d6d465e9",
   "metadata": {},
   "outputs": [
    {
     "data": {
      "text/plain": [
       "[200, 'hello', 32, 'Delhi', True, False, 3.2, 52, 45, 'India']"
      ]
     },
     "execution_count": 37,
     "metadata": {},
     "output_type": "execute_result"
    }
   ],
   "source": [
    "c"
   ]
  },
  {
   "cell_type": "code",
   "execution_count": null,
   "id": "ae26b2d2",
   "metadata": {},
   "outputs": [],
   "source": []
  }
 ],
 "metadata": {
  "kernelspec": {
   "display_name": "Python 3 (ipykernel)",
   "language": "python",
   "name": "python3"
  },
  "language_info": {
   "codemirror_mode": {
    "name": "ipython",
    "version": 3
   },
   "file_extension": ".py",
   "mimetype": "text/x-python",
   "name": "python",
   "nbconvert_exporter": "python",
   "pygments_lexer": "ipython3",
   "version": "3.9.12"
  }
 },
 "nbformat": 4,
 "nbformat_minor": 5
}
